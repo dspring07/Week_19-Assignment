{
 "cells": [
  {
   "cell_type": "code",
   "execution_count": 1,
   "id": "fcad152e-a88f-4773-900c-f927e6878bcf",
   "metadata": {},
   "outputs": [],
   "source": [
    "import subprocess"
   ]
  },
  {
   "cell_type": "code",
   "execution_count": 8,
   "id": "2e4a765b-5883-468d-90b0-ee952203bebf",
   "metadata": {},
   "outputs": [],
   "source": [
    "command = 'php derive -g --mnemonic=\"palm feel release split fringe sister risk galaxy various way pig beauty legal brand car\" --cols=path,address,privkey,pubkey'"
   ]
  },
  {
   "cell_type": "code",
   "execution_count": 9,
   "id": "73ee6914-b57a-4c5e-8e58-db11bced2f63",
   "metadata": {},
   "outputs": [],
   "source": [
    "p = subprocess.Popen(command,stdout=subprocess.PIPE,shell=True)\n",
    "output, err = p.communicate()\n",
    "p_status = p.wait()"
   ]
  },
  {
   "cell_type": "code",
   "execution_count": 10,
   "id": "d19520ac-d7d9-4aed-b3cf-4b89c4f37599",
   "metadata": {},
   "outputs": [
    {
     "name": "stdout",
     "output_type": "stream",
     "text": [
      "\n",
      "+-----------------+------------------------------------+------------------------------------------------------+--------------------------------------------------------------------+\n",
      "| path            | address                            | privkey                                              | pubkey                                                             |\n",
      "+-----------------+------------------------------------+------------------------------------------------------+--------------------------------------------------------------------+\n",
      "| m/44'/0'/0'/0/0 | 1BQbRwZBi98ethgRDxL16iaah214yoCnXc | L3EAV6HjBdCLtUh6NZKZdaA5HfUcj3DT8TWwxwfJ5fKRivuj4EZe | 038c32201c11597e68dd61a58313751400c46e7b3fdc6a81616b09b50d227396dc |\n",
      "| m/44'/0'/0'/0/1 | 1HSucKmuqftS34fB2KbC67gucn3eH4j863 | L1hBMeSBaAxugcDZpbqeT5eAkZ5ABnGN4wUnn7v85wdTBhnQ61KX | 02bbf779788c248c687f4db6871c7e2319e2c9acfd8a39a13ffe5802baa9506417 |\n",
      "| m/44'/0'/0'/0/2 | 15bD3JYCRi12sKNPAVMVVDTQiBPLnT6Mdz | KzqQUi2J6vuTsHvoLuq7DygR3m6frNkyq72wCpbnvLUZbBp5qNKJ | 02214a6670d7ca7313d309bf435c260e853786bd607bfa64979c43b55255d1afdb |\n",
      "| m/44'/0'/0'/0/3 | 1EKFcvaFJLzz9Dey4fosNiWV2zzxhoaH9e | L4zTJ168tMwbXoULi4CN84wTyxtz5Ju1ybSu7qBpMacp1EYNUDTV | 020177a57606c689d335a5d11499e2d55300ace3050464854ee8bbeebf4270993b |\n",
      "| m/44'/0'/0'/0/4 | 1LFvJ2mHvXyHqU55Wa7TRcPPhGBgWPZENy | KzGqGVmk6MRKDNCXTepPs3euiuDuStH3Wg2Qgc6KiEgqVqz8wQnZ | 03825abcbb3bec82afcebf3bad9e668be8cb9a95eca43506298b92a24e4a595331 |\n",
      "| m/44'/0'/0'/0/5 | 1BJ3aj6M6ijQ58AnRjXX2KU6wsq5F65VxX | L2kToZ3CeqS3bvZxht6Lz8Cq9xYQAWQsHBYbrb19wREqaEWggjMB | 022114f86c03dcb50df8e752845b1dd75a4da63e7b2caa03b31be872603e685f17 |\n",
      "| m/44'/0'/0'/0/6 | 1LucQNjp7YEQ4NoLdyJDHVitmhHEMnKtcZ | KwKyxBKkYReYZfL9iFbChKpHFEMb3u2uDiZPZ3DVfsTsNNHQ4Apz | 03b652d8af49350af1cf4ff74e02110dc91d8a5b97eeeb295e05d31467d3dd86c6 |\n",
      "| m/44'/0'/0'/0/7 | 14iALNRTe2QKkYM3AzcmYqU7qiEkM37NyL | KxsPhnm8m8EUi3rhvJW4JMbmPs4nJ8ZkVqjaiFBCLuCAZJAftvn4 | 030d748886868c149f7efd0b635789bb3939a1454d4affba9fed92d0950cc24dc5 |\n",
      "| m/44'/0'/0'/0/8 | 12tbUpmrHFmtPgWWJrHc4uj7bGA2eTzcGX | L484TzvPeCkHDjYB3VZdsg5g9vHHVWcY9o3xWg1n4WVKmx9ogfhM | 038f8931adfefad5d49ce6b250d2421176918620b58bf16b4e089c8aceefb20f47 |\n",
      "| m/44'/0'/0'/0/9 | 1DL2yeRVUn6nnanDT5wGMFt5TmruNbvowF | Kxy1bUKNdHqGpxFwtbHj3ZJ85MfBog6fi3kgeWPUwKKjrWyXMr4p | 025611559339f00c1ebb893b9103493b901cb8679cd5b5a31582a01b4f48eca39e |\n",
      "+-----------------+------------------------------------+------------------------------------------------------+--------------------------------------------------------------------+\n",
      "\n",
      "\n"
     ]
    }
   ],
   "source": [
    "print(output.decode())"
   ]
  },
  {
   "cell_type": "code",
   "execution_count": null,
   "id": "a4a50712-ffae-40ee-8130-c3b81f497bf9",
   "metadata": {},
   "outputs": [],
   "source": []
  }
 ],
 "metadata": {
  "kernelspec": {
   "display_name": "Python [conda env:ethereum]",
   "language": "python",
   "name": "conda-env-ethereum-py"
  },
  "language_info": {
   "codemirror_mode": {
    "name": "ipython",
    "version": 3
   },
   "file_extension": ".py",
   "mimetype": "text/x-python",
   "name": "python",
   "nbconvert_exporter": "python",
   "pygments_lexer": "ipython3",
   "version": "3.7.10"
  }
 },
 "nbformat": 4,
 "nbformat_minor": 5
}
