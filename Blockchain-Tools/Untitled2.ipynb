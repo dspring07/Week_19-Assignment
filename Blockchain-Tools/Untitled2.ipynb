{
 "cells": [
  {
   "cell_type": "code",
   "execution_count": 1,
   "id": "3c01636d-6f05-4c8f-b149-f076c0fc7345",
   "metadata": {},
   "outputs": [],
   "source": [
    "import subprocess\n",
    "import json"
   ]
  },
  {
   "cell_type": "code",
   "execution_count": 2,
   "id": "733935ae-9d3e-4d62-8435-b24a5de1b6b2",
   "metadata": {},
   "outputs": [],
   "source": [
    "command = 'php derive -g --mnemonic=\"palm feel release split fringe sister risk galaxy various way pig beauty legal brand car\" --cols=path,address,privkey,pubkey --format=json'\n",
    "p = subprocess.Popen(command,stdout=subprocess.PIPE,shell=True)\n",
    "output, err = p.communicate()\n",
    "p_status = p.wait()\n",
    "key_string = output.decode()"
   ]
  },
  {
   "cell_type": "code",
   "execution_count": 3,
   "id": "0f2f3b62-c65c-4483-b44f-a410c3ebf448",
   "metadata": {},
   "outputs": [
    {
     "data": {
      "text/plain": [
       "[{'path': \"m/44'/0'/0'/0/0\",\n",
       "  'address': '1BQbRwZBi98ethgRDxL16iaah214yoCnXc',\n",
       "  'privkey': 'L3EAV6HjBdCLtUh6NZKZdaA5HfUcj3DT8TWwxwfJ5fKRivuj4EZe',\n",
       "  'pubkey': '038c32201c11597e68dd61a58313751400c46e7b3fdc6a81616b09b50d227396dc'},\n",
       " {'path': \"m/44'/0'/0'/0/1\",\n",
       "  'address': '1HSucKmuqftS34fB2KbC67gucn3eH4j863',\n",
       "  'privkey': 'L1hBMeSBaAxugcDZpbqeT5eAkZ5ABnGN4wUnn7v85wdTBhnQ61KX',\n",
       "  'pubkey': '02bbf779788c248c687f4db6871c7e2319e2c9acfd8a39a13ffe5802baa9506417'},\n",
       " {'path': \"m/44'/0'/0'/0/2\",\n",
       "  'address': '15bD3JYCRi12sKNPAVMVVDTQiBPLnT6Mdz',\n",
       "  'privkey': 'KzqQUi2J6vuTsHvoLuq7DygR3m6frNkyq72wCpbnvLUZbBp5qNKJ',\n",
       "  'pubkey': '02214a6670d7ca7313d309bf435c260e853786bd607bfa64979c43b55255d1afdb'},\n",
       " {'path': \"m/44'/0'/0'/0/3\",\n",
       "  'address': '1EKFcvaFJLzz9Dey4fosNiWV2zzxhoaH9e',\n",
       "  'privkey': 'L4zTJ168tMwbXoULi4CN84wTyxtz5Ju1ybSu7qBpMacp1EYNUDTV',\n",
       "  'pubkey': '020177a57606c689d335a5d11499e2d55300ace3050464854ee8bbeebf4270993b'},\n",
       " {'path': \"m/44'/0'/0'/0/4\",\n",
       "  'address': '1LFvJ2mHvXyHqU55Wa7TRcPPhGBgWPZENy',\n",
       "  'privkey': 'KzGqGVmk6MRKDNCXTepPs3euiuDuStH3Wg2Qgc6KiEgqVqz8wQnZ',\n",
       "  'pubkey': '03825abcbb3bec82afcebf3bad9e668be8cb9a95eca43506298b92a24e4a595331'},\n",
       " {'path': \"m/44'/0'/0'/0/5\",\n",
       "  'address': '1BJ3aj6M6ijQ58AnRjXX2KU6wsq5F65VxX',\n",
       "  'privkey': 'L2kToZ3CeqS3bvZxht6Lz8Cq9xYQAWQsHBYbrb19wREqaEWggjMB',\n",
       "  'pubkey': '022114f86c03dcb50df8e752845b1dd75a4da63e7b2caa03b31be872603e685f17'},\n",
       " {'path': \"m/44'/0'/0'/0/6\",\n",
       "  'address': '1LucQNjp7YEQ4NoLdyJDHVitmhHEMnKtcZ',\n",
       "  'privkey': 'KwKyxBKkYReYZfL9iFbChKpHFEMb3u2uDiZPZ3DVfsTsNNHQ4Apz',\n",
       "  'pubkey': '03b652d8af49350af1cf4ff74e02110dc91d8a5b97eeeb295e05d31467d3dd86c6'},\n",
       " {'path': \"m/44'/0'/0'/0/7\",\n",
       "  'address': '14iALNRTe2QKkYM3AzcmYqU7qiEkM37NyL',\n",
       "  'privkey': 'KxsPhnm8m8EUi3rhvJW4JMbmPs4nJ8ZkVqjaiFBCLuCAZJAftvn4',\n",
       "  'pubkey': '030d748886868c149f7efd0b635789bb3939a1454d4affba9fed92d0950cc24dc5'},\n",
       " {'path': \"m/44'/0'/0'/0/8\",\n",
       "  'address': '12tbUpmrHFmtPgWWJrHc4uj7bGA2eTzcGX',\n",
       "  'privkey': 'L484TzvPeCkHDjYB3VZdsg5g9vHHVWcY9o3xWg1n4WVKmx9ogfhM',\n",
       "  'pubkey': '038f8931adfefad5d49ce6b250d2421176918620b58bf16b4e089c8aceefb20f47'},\n",
       " {'path': \"m/44'/0'/0'/0/9\",\n",
       "  'address': '1DL2yeRVUn6nnanDT5wGMFt5TmruNbvowF',\n",
       "  'privkey': 'Kxy1bUKNdHqGpxFwtbHj3ZJ85MfBog6fi3kgeWPUwKKjrWyXMr4p',\n",
       "  'pubkey': '025611559339f00c1ebb893b9103493b901cb8679cd5b5a31582a01b4f48eca39e'}]"
      ]
     },
     "execution_count": 3,
     "metadata": {},
     "output_type": "execute_result"
    }
   ],
   "source": [
    "json.loads(key_string)"
   ]
  },
  {
   "cell_type": "code",
   "execution_count": null,
   "id": "d2e372fd-3edd-463a-824f-a8e217283aff",
   "metadata": {},
   "outputs": [],
   "source": []
  }
 ],
 "metadata": {
  "kernelspec": {
   "display_name": "Python [conda env:ethereum]",
   "language": "python",
   "name": "conda-env-ethereum-py"
  },
  "language_info": {
   "codemirror_mode": {
    "name": "ipython",
    "version": 3
   },
   "file_extension": ".py",
   "mimetype": "text/x-python",
   "name": "python",
   "nbconvert_exporter": "python",
   "pygments_lexer": "ipython3",
   "version": "3.7.10"
  }
 },
 "nbformat": 4,
 "nbformat_minor": 5
}
