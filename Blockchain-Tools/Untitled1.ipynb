{
 "cells": [
  {
   "cell_type": "code",
   "execution_count": null,
   "id": "f244078e-f805-4e29-ba1d-2d7450bc58d0",
   "metadata": {},
   "outputs": [],
   "source": [
    "import subprocess\n",
    "import json"
   ]
  },
  {
   "cell_type": "code",
   "execution_count": null,
   "id": "cbd29ce1-6584-4698-b0f0-bf8c057ef309",
   "metadata": {},
   "outputs": [],
   "source": [
    "command = 'php derive -g --mnemonic=\"palm feel release split fringe sister risk galaxy various way pig beauty legal brand car\" --cols=path,address,privkey,pubkey --format=json'\n",
    "p = subprocess.Popen(command,stdout=subprocess.PIPE,shell=True)\n",
    "output, err = p.communicate()\n",
    "p_status = p.wait()\n",
    "key_string = output.decode()"
   ]
  },
  {
   "cell_type": "code",
   "execution_count": null,
   "id": "c82fff8e-9728-4989-9acf-5f7edf892654",
   "metadata": {},
   "outputs": [],
   "source": [
    "json.loads(key_string)"
   ]
  },
  {
   "cell_type": "code",
   "execution_count": null,
   "id": "4c91c435-b73b-4d5d-bb75-c8928f6d228d",
   "metadata": {},
   "outputs": [],
   "source": []
  }
 ],
 "metadata": {
  "kernelspec": {
   "display_name": "Python [conda env:ethereum]",
   "language": "python",
   "name": "conda-env-ethereum-py"
  },
  "language_info": {
   "codemirror_mode": {
    "name": "ipython",
    "version": 3
   },
   "file_extension": ".py",
   "mimetype": "text/x-python",
   "name": "python",
   "nbconvert_exporter": "python",
   "pygments_lexer": "ipython3",
   "version": "3.7.10"
  }
 },
 "nbformat": 4,
 "nbformat_minor": 5
}
