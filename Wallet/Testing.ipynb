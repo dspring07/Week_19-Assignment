{
 "cells": [
  {
   "cell_type": "code",
   "execution_count": 1,
   "id": "173d1092-ab94-4779-85d8-6917e40f9f4c",
   "metadata": {},
   "outputs": [],
   "source": [
    "# Import dependencies\n",
    "import subprocess\n",
    "import json\n",
    "import os\n",
    "from dotenv import load_dotenv"
   ]
  },
  {
   "cell_type": "code",
   "execution_count": null,
   "id": "46a1d77e-4cda-487d-a957-a4c728c6cf02",
   "metadata": {},
   "outputs": [],
   "source": []
  },
  {
   "cell_type": "code",
   "execution_count": 2,
   "id": "63997e07-7961-45a6-a3a9-419c9fe74e52",
   "metadata": {},
   "outputs": [
    {
     "name": "stdout",
     "output_type": "stream",
     "text": [
      "palm feel release split fringe sister risk galaxy various way pig beauty legal brand car\n"
     ]
    }
   ],
   "source": [
    "# Load and set environment variables\n",
    "load_dotenv()\n",
    "mnemonic = os.getenv(\"mnemonic\")\n",
    "print(mnemonic)"
   ]
  },
  {
   "cell_type": "code",
   "execution_count": 3,
   "id": "2f0d55c1-34fd-4bec-9392-284493eed574",
   "metadata": {},
   "outputs": [],
   "source": [
    "# Import constants.py and necessary functions from bit and web3\n",
    "from constants import BTC, BTCTEST, ETH"
   ]
  },
  {
   "cell_type": "code",
   "execution_count": 8,
   "id": "d6caca40-2875-4a12-85a9-a770c738b89e",
   "metadata": {},
   "outputs": [],
   "source": [
    "#Import web3 products\n",
    "from web3 import Web3\n",
    "from web3.middleware import geth_poa_middleware\n",
    "#from web3 import Web3.middleware.Account"
   ]
  },
  {
   "cell_type": "code",
   "execution_count": 9,
   "id": "baccfb94-4d17-44d9-aaf7-8afa830506f4",
   "metadata": {},
   "outputs": [],
   "source": [
    "#Connect to Web3 and execute middleware\n",
    "w3 = Web3(Web3.HTTPProvider(\"http://127.0.0.1:8545\"))\n",
    "w3.middleware_onion.inject(geth_poa_middleware, layer=0)\n"
   ]
  },
  {
   "cell_type": "code",
   "execution_count": null,
   "id": "0d7ae326-bb17-4403-ab00-36f7cce95e8b",
   "metadata": {},
   "outputs": [],
   "source": []
  },
  {
   "cell_type": "code",
   "execution_count": 24,
   "id": "83722aa9-95c2-4a44-8bf0-9f8c468dc661",
   "metadata": {},
   "outputs": [],
   "source": [
    "# Create a function called `derive_wallets`\n",
    "def derive_wallets(coin=BTC, mnemonic=mnemonic, depth=3):\n",
    "    command = f'php ./derive -g --mnemonic=\"{mnemonic}\" --cols=all --coin={coin} --numderive={depth} --format=json'\n",
    "    #command = 'php derive -g --mnemonic=\"{mnemonic}\" --cols=all --coin={coin} --numderive={depth} --format=json'\n",
    "    p = subprocess.Popen(command, stdout=subprocess.PIPE, shell=True)\n",
    "    output, err = p.communicate()\n",
    "    p_status = p.wait()\n",
    "    return json.loads(output)"
   ]
  },
  {
   "cell_type": "code",
   "execution_count": 25,
   "id": "4bed4e2f-11bb-4999-baf5-4c4f304825e0",
   "metadata": {},
   "outputs": [
    {
     "data": {
      "text/plain": [
       "[{'path': \"m/44'/60'/0'/0/0\",\n",
       "  'address': '0xF570938668C51FE3cD6f75C9172872f6D92d5A7b',\n",
       "  'xprv': 'xprvA3n98iJZnQX7DDT5u9WjGhGCJz94DBE1kAbYw3WgEQ9fUUov4NtoW4EcKPsWhJVVx6FASTGM2wFspXdRAz7wk4Wr9nbkk87nDNuugXfhWoA',\n",
       "  'xpub': 'xpub6GmVYDqTcn5QRhXZ1B3jdqCvs1yYcdws7PX9jRvHnjgeMH94bvD43rZ6Afn7dgdm6txcLP1g8AyLxJnqg6Pq92gRJZKSJMysK3qhpqZQBcF',\n",
       "  'privkey': '0x1d5387195bb10081a690dd193c5597ca2f374d33777034363e0523024e23182a',\n",
       "  'pubkey': '0290c184db095ea826be63a78bc410aa1a747226ca642a56eaa1025569e257bd72',\n",
       "  'pubkeyhash': '8c7b7eaf945c3417f9372db2f89dc15bee63e0f1',\n",
       "  'index': 0},\n",
       " {'path': \"m/44'/60'/0'/0/1\",\n",
       "  'address': '0x36F47ca08Fff5f576512CaA9C55cD09D00eBc2d7',\n",
       "  'xprv': 'xprvA3n98iJZnQX7G6HGnKEUpfUrwU2J7gy1qngB1QA3v6ajKZ6Cu2GUTFtNEgZjppz1f5ssN3ScwNJWmdBaBWCq5CXenWhD9BHUwnJMdfYfeSd',\n",
       "  'xpub': 'xpub6GmVYDqTcn5QUaMjtLmVBoRbVVrnX9gsD1bmonZfUS7iCMRMSZaj14Cr5z8mgXNKNwycwW12YxZ3hyactaU5FdPDykimGiMt7if2LCErRnd',\n",
       "  'privkey': '0x9c85735c9cade281564491795d92dcf6ab9e9b16df4df93d75d007f83b070910',\n",
       "  'pubkey': '03eae7ff85904c82618c6c44566bfa000c5855a08a716f03b0883dbf816da5b7cb',\n",
       "  'pubkeyhash': 'c2cca0c6b3fec3b055abb5e7f059c599e4f6ffa4',\n",
       "  'index': 1},\n",
       " {'path': \"m/44'/60'/0'/0/2\",\n",
       "  'address': '0x2be1D85ab77Ac4931f748C4d4b42e16BA18ed06a',\n",
       "  'xprv': 'xprvA3n98iJZnQX7KBtottS8pzpzo8VEgnFYAPDocctRtiZLPWvyt3MHEFV3nVjrCVBxn1JANPvuPwYpuq4wzA2BmGsbjPJkQzCFxhLLbnycJyg',\n",
       "  'xpub': 'xpub6GmVYDqTcn5QXfyGzuy9C8mjMAKj6EyPXc9QR1J3T46KGKG8RafXn3oXdnFLH2roCTRRVRxcBWw2GWbcK5mqGPX7PTPC8EPNPz4dpdK724N',\n",
       "  'privkey': '0x7cd4514986de7471851eb322083438af1aef2fe8a3828c0d30fd22d46ccd7e18',\n",
       "  'pubkey': '033f7657592c6345318283deb9a8aaf539bd2f701303f324f283320215b3ca1b11',\n",
       "  'pubkeyhash': '4ed0fc19391af47900571c44fbf26209bc226fe7',\n",
       "  'index': 2}]"
      ]
     },
     "execution_count": 25,
     "metadata": {},
     "output_type": "execute_result"
    }
   ],
   "source": [
    "derive_wallets(coin=ETH)"
   ]
  },
  {
   "cell_type": "code",
   "execution_count": 26,
   "id": "6929cd71-d14f-4158-9757-af33a74554b4",
   "metadata": {},
   "outputs": [
    {
     "data": {
      "text/plain": [
       "[{'path': \"m/44'/0'/0'/0/0\",\n",
       "  'address': '1BQbRwZBi98ethgRDxL16iaah214yoCnXc',\n",
       "  'xprv': 'xprvA3pBNeNKMwi8oM6jvJrnbCw2BPZP8YqmpzfbuVSGLxf9fD65PChCTvU7g194BAt9xFjmvDibusSXS22CM1C5fxAoqJFr1tKjPFm95fQGRAv',\n",
       "  'xpub': 'xpub6GoXn9uDCKGS1qBD2LPnxLskjRPsY1ZdCDbChsqsuJC8Y1RDvk1T1inbXHpN1efFVhgYHjzmNR4PB3hQJqgZzj8jVPgd3DG4yR2sW4dj8Eq',\n",
       "  'privkey': 'L3EAV6HjBdCLtUh6NZKZdaA5HfUcj3DT8TWwxwfJ5fKRivuj4EZe',\n",
       "  'pubkey': '038c32201c11597e68dd61a58313751400c46e7b3fdc6a81616b09b50d227396dc',\n",
       "  'pubkeyhash': '722790d0ae55446c9c056b325f9270523595e3d2',\n",
       "  'index': 0},\n",
       " {'path': \"m/44'/0'/0'/0/1\",\n",
       "  'address': '1HSucKmuqftS34fB2KbC67gucn3eH4j863',\n",
       "  'xprv': 'xprvA3pBNeNKMwi8sfFLqWx6fyy3U1Jr76RHGx7LEyQgdQVennqFEoUjp42UgHF3JRfA76cr1W5qxNDoGza3LEFPpyJJHzvsWjpNUKpobqMXBrj',\n",
       "  'xpub': 'xpub6GoXn9uDCKGS69KowYV737un239LWZ98eB2w3MpJBk2dfbAPnLnzMrLxXYgoXF1MhWnASubsdawrPSoRGJFwBNCQtUnoV8mrDqGkSkZdRGh',\n",
       "  'privkey': 'L1hBMeSBaAxugcDZpbqeT5eAkZ5ABnGN4wUnn7v85wdTBhnQ61KX',\n",
       "  'pubkey': '02bbf779788c248c687f4db6871c7e2319e2c9acfd8a39a13ffe5802baa9506417',\n",
       "  'pubkeyhash': 'b46853cfe8b5b2c8857f7e456ea3555e22798f65',\n",
       "  'index': 1},\n",
       " {'path': \"m/44'/0'/0'/0/2\",\n",
       "  'address': '15bD3JYCRi12sKNPAVMVVDTQiBPLnT6Mdz',\n",
       "  'xprv': 'xprvA3pBNeNKMwi8vNUigs5juAH1MFmCzh6LR8eyujgCC1XLuvWaETbCpw4jJRyzirdiWkDSjewNyN3qrDdiiHB8oktrqcK1Q8x2DXFgaSiEqDr',\n",
       "  'xpub': 'xpub6GoXn9uDCKGS8rZBntckGJDjuHbhQ9pBnMaai85okM4KniqimzuTNjPD9gSv1UzhsDypAsbszG7W4mzdCUuJEbtNtgTCeLUSD5LdJ9v77bW',\n",
       "  'privkey': 'KzqQUi2J6vuTsHvoLuq7DygR3m6frNkyq72wCpbnvLUZbBp5qNKJ',\n",
       "  'pubkey': '02214a6670d7ca7313d309bf435c260e853786bd607bfa64979c43b55255d1afdb',\n",
       "  'pubkeyhash': '3258b23186175de75c27a8f37454eb15cf0a88aa',\n",
       "  'index': 2}]"
      ]
     },
     "execution_count": 26,
     "metadata": {},
     "output_type": "execute_result"
    }
   ],
   "source": [
    "derive_wallets(coin=BTC)"
   ]
  },
  {
   "cell_type": "code",
   "execution_count": 27,
   "id": "a964e572-380e-4a8c-a07f-d524273eb617",
   "metadata": {},
   "outputs": [
    {
     "data": {
      "text/plain": [
       "[{'path': \"m/44'/1'/0'/0/0\",\n",
       "  'address': 'mk2WasWAPPNjWngAjmCkmz8NNJjZT6xUhS',\n",
       "  'xprv': 'tprv8kfbdNrjMradoqcpDSCFt1eLhdZLzdTonXJPmKLnGxxcZYXU8gyVPk4dyH3KYCd2af16KsEi4ZeYADf4wHCp4Zxb9kdY4Eaor9hvu9B3JZn',\n",
       "  'xpub': 'tpubDHMdmntyWEGJhJec75rrHRJTGf5H9xeiMpuB3qP5hEm1Q2nEm5o5aEgW9Qb9ioW5YmYua3hQf7SpErvedH9AYWZ4hbYLjw1bTVxnYWUjqMm',\n",
       "  'privkey': 'cTL5HGd99gXe32tmW35j84jb6AQJJdne6DDbNrUL2FkkNFEXubQS',\n",
       "  'pubkey': '02fad2d31f91a1405bb1081d4c005719f1e442b07e3abaf7f1755d0db320b62e4a',\n",
       "  'pubkeyhash': '31778534172be9dd7c354a50c96f840ae36090b3',\n",
       "  'index': 0},\n",
       " {'path': \"m/44'/1'/0'/0/1\",\n",
       "  'address': 'mt3pabxXqMis935hFXRVZyH1siCRUPJ72y',\n",
       "  'xprv': 'tprv8kfbdNrjMradtMGMdy2Xz5W11q1z5FmLZqznapDvwWCbjEaVx1TRtwh9BZJM5wLWvLKoiTkDUjzaCJKJZ7iVaZgpWGMwD1v8vkPdK9VYxdm',\n",
       "  'xpub': 'tpubDHMdmntyWEGJmpJ9Xch8PVA7arXvEaxF99bZsLGEMmzzZiqGaQH25SK1MhuMjZ4dhU1rihXhcCZPr2G2jXgmNHrceAGgbyvmc2MUvPTdwsk',\n",
       "  'privkey': 'cSAZszTTsJQmENTBWuMMczU87RJu9ZVK5zZWwvXaKqDzKwUj1sCT',\n",
       "  'pubkey': '0363035a93fbb3b901e0c81e16b4c7cfdc7e7e7229cceadcde6166e6c5353e365c',\n",
       "  'pubkeyhash': '8977f6df3e3f5e16b4f656c009b0ea7308de075d',\n",
       "  'index': 1},\n",
       " {'path': \"m/44'/1'/0'/0/2\",\n",
       "  'address': 'n1RRqMUUWQdSRDiaA1uV7dpDx2QxzxJueD',\n",
       "  'xprv': 'tprv8kfbdNrjMradw2a9FLpoHswFadCosiCpztv1h1EzqMjVo88kXfK2w6HEWPYxeQYhSY7BwsL4myWhSroc3sx99zJg9mqEkP7n7eSFTpMKhkB',\n",
       "  'xpub': 'tpubDHMdmntyWEGJpVbw8zVPhHbN9eik33PjaCWnyXHJFdXtdcPXA48d7au6gXqvziuwUtKBGYaEQJVFv1ahH9QN1cg5qy8SHRA2RETNQdbVmqJ',\n",
       "  'privkey': 'cRdDKJBkRuCL2rBvvnqC1DKLWjAixg7i5mToSDn3zCktHjEfLjcp',\n",
       "  'pubkey': '0329ec057cdef8bb9b966bc7125ecc364d53b78ce73a47f2e30d48da8fc0d80bc1',\n",
       "  'pubkeyhash': 'da570243e08911662e84cc701d691b657bf4beee',\n",
       "  'index': 2}]"
      ]
     },
     "execution_count": 27,
     "metadata": {},
     "output_type": "execute_result"
    }
   ],
   "source": [
    "derive_wallets(coin=BTCTEST)"
   ]
  },
  {
   "cell_type": "code",
   "execution_count": null,
   "id": "c00340e2-7eee-4f93-850b-dbd1872037a9",
   "metadata": {},
   "outputs": [],
   "source": []
  },
  {
   "cell_type": "code",
   "execution_count": null,
   "id": "7f634242-a452-4d55-9211-24b4aaa951cb",
   "metadata": {},
   "outputs": [],
   "source": [
    "# Create a dictionary object called coins to store the output from `derive_wallets`.\n",
    "# coins = # YOUR CODE HERE"
   ]
  },
  {
   "cell_type": "code",
   "execution_count": 38,
   "id": "27298833-2e72-4ff1-83cc-45e2712145d0",
   "metadata": {},
   "outputs": [
    {
     "name": "stdout",
     "output_type": "stream",
     "text": [
      "{'btc-test': [{'address': 'mk2WasWAPPNjWngAjmCkmz8NNJjZT6xUhS',\n",
      "               'index': 0,\n",
      "               'path': \"m/44'/1'/0'/0/0\",\n",
      "               'privkey': 'cTL5HGd99gXe32tmW35j84jb6AQJJdne6DDbNrUL2FkkNFEXubQS',\n",
      "               'pubkey': '02fad2d31f91a1405bb1081d4c005719f1e442b07e3abaf7f1755d0db320b62e4a',\n",
      "               'pubkeyhash': '31778534172be9dd7c354a50c96f840ae36090b3',\n",
      "               'xprv': 'tprv8kfbdNrjMradoqcpDSCFt1eLhdZLzdTonXJPmKLnGxxcZYXU8gyVPk4dyH3KYCd2af16KsEi4ZeYADf4wHCp4Zxb9kdY4Eaor9hvu9B3JZn',\n",
      "               'xpub': 'tpubDHMdmntyWEGJhJec75rrHRJTGf5H9xeiMpuB3qP5hEm1Q2nEm5o5aEgW9Qb9ioW5YmYua3hQf7SpErvedH9AYWZ4hbYLjw1bTVxnYWUjqMm'},\n",
      "              {'address': 'mt3pabxXqMis935hFXRVZyH1siCRUPJ72y',\n",
      "               'index': 1,\n",
      "               'path': \"m/44'/1'/0'/0/1\",\n",
      "               'privkey': 'cSAZszTTsJQmENTBWuMMczU87RJu9ZVK5zZWwvXaKqDzKwUj1sCT',\n",
      "               'pubkey': '0363035a93fbb3b901e0c81e16b4c7cfdc7e7e7229cceadcde6166e6c5353e365c',\n",
      "               'pubkeyhash': '8977f6df3e3f5e16b4f656c009b0ea7308de075d',\n",
      "               'xprv': 'tprv8kfbdNrjMradtMGMdy2Xz5W11q1z5FmLZqznapDvwWCbjEaVx1TRtwh9BZJM5wLWvLKoiTkDUjzaCJKJZ7iVaZgpWGMwD1v8vkPdK9VYxdm',\n",
      "               'xpub': 'tpubDHMdmntyWEGJmpJ9Xch8PVA7arXvEaxF99bZsLGEMmzzZiqGaQH25SK1MhuMjZ4dhU1rihXhcCZPr2G2jXgmNHrceAGgbyvmc2MUvPTdwsk'},\n",
      "              {'address': 'n1RRqMUUWQdSRDiaA1uV7dpDx2QxzxJueD',\n",
      "               'index': 2,\n",
      "               'path': \"m/44'/1'/0'/0/2\",\n",
      "               'privkey': 'cRdDKJBkRuCL2rBvvnqC1DKLWjAixg7i5mToSDn3zCktHjEfLjcp',\n",
      "               'pubkey': '0329ec057cdef8bb9b966bc7125ecc364d53b78ce73a47f2e30d48da8fc0d80bc1',\n",
      "               'pubkeyhash': 'da570243e08911662e84cc701d691b657bf4beee',\n",
      "               'xprv': 'tprv8kfbdNrjMradw2a9FLpoHswFadCosiCpztv1h1EzqMjVo88kXfK2w6HEWPYxeQYhSY7BwsL4myWhSroc3sx99zJg9mqEkP7n7eSFTpMKhkB',\n",
      "               'xpub': 'tpubDHMdmntyWEGJpVbw8zVPhHbN9eik33PjaCWnyXHJFdXtdcPXA48d7au6gXqvziuwUtKBGYaEQJVFv1ahH9QN1cg5qy8SHRA2RETNQdbVmqJ'}],\n",
      " 'eth': [{'address': '0xF570938668C51FE3cD6f75C9172872f6D92d5A7b',\n",
      "          'index': 0,\n",
      "          'path': \"m/44'/60'/0'/0/0\",\n",
      "          'privkey': '0x1d5387195bb10081a690dd193c5597ca2f374d33777034363e0523024e23182a',\n",
      "          'pubkey': '0290c184db095ea826be63a78bc410aa1a747226ca642a56eaa1025569e257bd72',\n",
      "          'pubkeyhash': '8c7b7eaf945c3417f9372db2f89dc15bee63e0f1',\n",
      "          'xprv': 'xprvA3n98iJZnQX7DDT5u9WjGhGCJz94DBE1kAbYw3WgEQ9fUUov4NtoW4EcKPsWhJVVx6FASTGM2wFspXdRAz7wk4Wr9nbkk87nDNuugXfhWoA',\n",
      "          'xpub': 'xpub6GmVYDqTcn5QRhXZ1B3jdqCvs1yYcdws7PX9jRvHnjgeMH94bvD43rZ6Afn7dgdm6txcLP1g8AyLxJnqg6Pq92gRJZKSJMysK3qhpqZQBcF'},\n",
      "         {'address': '0x36F47ca08Fff5f576512CaA9C55cD09D00eBc2d7',\n",
      "          'index': 1,\n",
      "          'path': \"m/44'/60'/0'/0/1\",\n",
      "          'privkey': '0x9c85735c9cade281564491795d92dcf6ab9e9b16df4df93d75d007f83b070910',\n",
      "          'pubkey': '03eae7ff85904c82618c6c44566bfa000c5855a08a716f03b0883dbf816da5b7cb',\n",
      "          'pubkeyhash': 'c2cca0c6b3fec3b055abb5e7f059c599e4f6ffa4',\n",
      "          'xprv': 'xprvA3n98iJZnQX7G6HGnKEUpfUrwU2J7gy1qngB1QA3v6ajKZ6Cu2GUTFtNEgZjppz1f5ssN3ScwNJWmdBaBWCq5CXenWhD9BHUwnJMdfYfeSd',\n",
      "          'xpub': 'xpub6GmVYDqTcn5QUaMjtLmVBoRbVVrnX9gsD1bmonZfUS7iCMRMSZaj14Cr5z8mgXNKNwycwW12YxZ3hyactaU5FdPDykimGiMt7if2LCErRnd'},\n",
      "         {'address': '0x2be1D85ab77Ac4931f748C4d4b42e16BA18ed06a',\n",
      "          'index': 2,\n",
      "          'path': \"m/44'/60'/0'/0/2\",\n",
      "          'privkey': '0x7cd4514986de7471851eb322083438af1aef2fe8a3828c0d30fd22d46ccd7e18',\n",
      "          'pubkey': '033f7657592c6345318283deb9a8aaf539bd2f701303f324f283320215b3ca1b11',\n",
      "          'pubkeyhash': '4ed0fc19391af47900571c44fbf26209bc226fe7',\n",
      "          'xprv': 'xprvA3n98iJZnQX7KBtottS8pzpzo8VEgnFYAPDocctRtiZLPWvyt3MHEFV3nVjrCVBxn1JANPvuPwYpuq4wzA2BmGsbjPJkQzCFxhLLbnycJyg',\n",
      "          'xpub': 'xpub6GmVYDqTcn5QXfyGzuy9C8mjMAKj6EyPXc9QR1J3T46KGKG8RafXn3oXdnFLH2roCTRRVRxcBWw2GWbcK5mqGPX7PTPC8EPNPz4dpdK724N'}]}\n"
     ]
    }
   ],
   "source": [
    "coins = {\n",
    "    ETH: derive_wallets(coin=ETH),\n",
    "    BTCTEST: derive_wallets(coin=BTCTEST),\n",
    "}\n",
    "from pprint import pprint\n",
    "pprint(coins)"
   ]
  },
  {
   "cell_type": "code",
   "execution_count": null,
   "id": "a781be48-507a-4159-97b9-fd298437acd5",
   "metadata": {},
   "outputs": [],
   "source": []
  },
  {
   "cell_type": "code",
   "execution_count": 39,
   "id": "98912d6a-d1a2-44a1-9bfd-5beb98fc2f98",
   "metadata": {},
   "outputs": [],
   "source": [
    "# Create a function called `priv_key_to_account` that converts privkey strings to account objects.\n",
    "def priv_key_to_account(coin, priv_key):\n",
    "    if coin ==ETH:\n",
    "        return Account.privateKeyToAccount(priv_key)\n",
    "    if coin ==BTCTEST:\n",
    "        return Account.privateKeyTestnet(priv_key)\n",
    "    pass"
   ]
  },
  {
   "cell_type": "code",
   "execution_count": null,
   "id": "57ec2db7-7a72-4a75-a6ef-b8f321895ecc",
   "metadata": {},
   "outputs": [],
   "source": []
  },
  {
   "cell_type": "code",
   "execution_count": 43,
   "id": "731ce245-d20a-47e9-b47b-726098ca0edb",
   "metadata": {},
   "outputs": [],
   "source": [
    "from bit import PrivateKeyTestnet"
   ]
  },
  {
   "cell_type": "code",
   "execution_count": 44,
   "id": "82b7dbb4-1588-48f8-8858-dd1a7f2c2b95",
   "metadata": {},
   "outputs": [],
   "source": [
    "# Create a function called `create_tx` that creates an unsigned transaction appropriate metadata.\n",
    "def create_tx(coin, account, to, amount):\n",
    "    if coin==ETH:\n",
    "        value = w3.toWei(amount, \"ether\")\n",
    "        gasPrice = w3.eth.estimateGas(\n",
    "        {\"from\": account, \"to\": to, \"value\": amount}\n",
    "    )\n",
    "        return {\n",
    "            \"from\": account,\n",
    "            \"to\": to,            \n",
    "            \"value\": amount,\n",
    "            \"gas\": gasPrice,\n",
    "            \"gasPrice\": w3.eth.generateGasPrice(),\n",
    "            \"nonce\": w3.eth.getTransactionCount(account),\n",
    "            \"chainId\": w3.eth.chain_id\n",
    "        }\n",
    "    if coin==BTCTEST:\n",
    "        return PrivateKeyTestnet.prepare_transaction(account.address, [(to, amount, BTC)])\n",
    "    pass"
   ]
  },
  {
   "cell_type": "code",
   "execution_count": 45,
   "id": "e01a2626-e5b6-4ba4-84a3-920d0f9d3d9f",
   "metadata": {},
   "outputs": [],
   "source": [
    "from bit.network import NetworkAPI"
   ]
  },
  {
   "cell_type": "code",
   "execution_count": 46,
   "id": "bb7a9232-9a75-4df8-a08e-8e6f72160952",
   "metadata": {},
   "outputs": [],
   "source": [
    "# Create a function called `send_tx` that calls `create_tx`, signs and sends the transaction.\n",
    "def send_tx(coin, account, to, amount):\n",
    "    if coin == ETH:\n",
    "        raw_tx = create_tx(coin, account.address, to, amount)\n",
    "        signed = account.signTransaction(raw_tx)\n",
    "        return w3.eth.sendRawTransaction(signed.rawTransaction)\n",
    "    if coin == BTCTEST:\n",
    "        raw_tx = create_tx(coin, account, to, amount)\n",
    "        signed = account.sign_transaction(raw_tx)\n",
    "        return NetworkAPI.broadcast_tx_testnet(signed)\n",
    "    pass"
   ]
  },
  {
   "cell_type": "code",
   "execution_count": null,
   "id": "3cd3a403-43e6-4165-b852-02c236c7517c",
   "metadata": {},
   "outputs": [],
   "source": []
  },
  {
   "cell_type": "code",
   "execution_count": null,
   "id": "0d00979e-a9a6-4cc8-beea-f7983704c102",
   "metadata": {},
   "outputs": [],
   "source": []
  },
  {
   "cell_type": "code",
   "execution_count": null,
   "id": "cecdb869-5926-4cae-a391-f836e475c445",
   "metadata": {},
   "outputs": [],
   "source": []
  },
  {
   "cell_type": "code",
   "execution_count": null,
   "id": "df875e7b-b136-4e2f-97c8-bab90baa56d4",
   "metadata": {},
   "outputs": [],
   "source": []
  },
  {
   "cell_type": "code",
   "execution_count": null,
   "id": "caf70d4f-44c1-41ff-9c5d-09f39b103950",
   "metadata": {},
   "outputs": [],
   "source": []
  }
 ],
 "metadata": {
  "kernelspec": {
   "display_name": "Python [conda env:ethereum]",
   "language": "python",
   "name": "conda-env-ethereum-py"
  },
  "language_info": {
   "codemirror_mode": {
    "name": "ipython",
    "version": 3
   },
   "file_extension": ".py",
   "mimetype": "text/x-python",
   "name": "python",
   "nbconvert_exporter": "python",
   "pygments_lexer": "ipython3",
   "version": "3.7.10"
  }
 },
 "nbformat": 4,
 "nbformat_minor": 5
}
